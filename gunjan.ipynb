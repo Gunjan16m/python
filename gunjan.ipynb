{
  "cells": [
    {
      "cell_type": "markdown",
      "metadata": {
        "id": "view-in-github",
        "colab_type": "text"
      },
      "source": [
        "<a href=\"https://colab.research.google.com/github/Gunjan16m/python/blob/main/gunjan.ipynb\" target=\"_parent\"><img src=\"https://colab.research.google.com/assets/colab-badge.svg\" alt=\"Open In Colab\"/></a>"
      ]
    },
    {
      "cell_type": "code",
      "execution_count": null,
      "metadata": {
        "colab": {
          "base_uri": "https://localhost:8080/"
        },
        "id": "vpwOL0Xz3UAu",
        "outputId": "24476e95-d2a1-4681-b9a5-638f7a017c14"
      },
      "outputs": [
        {
          "name": "stdout",
          "output_type": "stream",
          "text": [
            "Enter a number : 3\n",
            "The given number is an odd no\n"
          ]
        }
      ],
      "source": [
        "num=int(input(\"Enter a number : \"))\n",
        "if num%2==0:\n",
        "  print(\"The given number is an even no\")\n",
        "else:\n",
        "  print(\"The given number is an odd no\")"
      ]
    },
    {
      "cell_type": "code",
      "execution_count": null,
      "metadata": {
        "colab": {
          "background_save": true,
          "base_uri": "https://localhost:8080/"
        },
        "id": "UD-2CWC_37JQ",
        "outputId": "d8f51993-f9a9-4086-f9f9-8b18286a8b94"
      },
      "outputs": [
        {
          "name": "stdout",
          "output_type": "stream",
          "text": [
            "54 is greater..\n"
          ]
        }
      ],
      "source": [
        "a=int(input(\"Enter 1st number : \"))\n",
        "b=int(input(\"Enter 2nd number : \"))\n",
        "if a>b:\n",
        "  print(a,\"is greater..\")\n",
        "elif b>a:\n",
        "  print(b,\"is greater..\")\n",
        "else:\n",
        "  print(\"Both are equal\")"
      ]
    },
    {
      "cell_type": "code",
      "execution_count": null,
      "metadata": {
        "colab": {
          "base_uri": "https://localhost:8080/"
        },
        "id": "wZa90tt85DKX",
        "outputId": "cb2f939b-cc8a-49e0-f841-bf42ac7b75aa"
      },
      "outputs": [
        {
          "name": "stdout",
          "output_type": "stream",
          "text": [
            "Enter 1st number : 2\n",
            "Enter 2nd number : 2\n",
            "Enter 3rd number : 2\n",
            "All the numbers are equal..\n"
          ]
        }
      ],
      "source": [
        "a=float(input(\"Enter 1st number : \"))\n",
        "b=float(input(\"Enter 2nd number : \"))\n",
        "c=float(input(\"Enter 3rd number : \"))\n",
        "if(a>b) and (a>c):\n",
        "  print(a,\"is the largest\")\n",
        "elif(b>a) and(b>c):\n",
        "  print(b,\"is the largest\")\n",
        "elif(c>a) and (c>b):\n",
        "  print(c,\"is the largest\")\n",
        "else:\n",
        "  print(\"All the numbers are equal..\")"
      ]
    },
    {
      "cell_type": "code",
      "execution_count": null,
      "metadata": {
        "colab": {
          "base_uri": "https://localhost:8080/"
        },
        "id": "3Sgojrhi59Vn",
        "outputId": "ea141ba6-9acf-443d-f14e-7d6db9ccd09b"
      },
      "outputs": [
        {
          "name": "stdout",
          "output_type": "stream",
          "text": [
            "Enter a number : 4\n",
            "The given number is an composite no\n"
          ]
        }
      ],
      "source": [
        "n=int(input(\"Enter a number : \"))\n",
        "if n>1:\n",
        "  for i in range(2,int(n/2)+1):\n",
        "    if n%i==0:\n",
        "      print(\"The given number is an composite no\")\n",
        "    else:\n",
        "      print(\"The given number is a prime no\")"
      ]
    },
    {
      "cell_type": "code",
      "execution_count": null,
      "metadata": {
        "id": "Eb9w59zQ8zPY"
      },
      "outputs": [],
      "source": []
    }
  ],
  "metadata": {
    "colab": {
      "provenance": [],
      "authorship_tag": "ABX9TyMJ+rCKKjf6NnbuiaGxUqH2",
      "include_colab_link": true
    },
    "kernelspec": {
      "display_name": "Python 3",
      "name": "python3"
    },
    "language_info": {
      "name": "python"
    }
  },
  "nbformat": 4,
  "nbformat_minor": 0
}